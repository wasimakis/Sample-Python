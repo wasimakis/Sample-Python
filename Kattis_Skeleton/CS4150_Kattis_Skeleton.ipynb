{
  "nbformat": 4,
  "nbformat_minor": 0,
  "metadata": {
    "colab": {
      "name": "CS4150_Katiss_Skeleton.ipynb",
      "version": "0.3.2",
      "provenance": [],
      "collapsed_sections": [],
      "include_colab_link": true
    },
    "kernelspec": {
      "name": "python3",
      "display_name": "Python 3"
    }
  },
  "cells": [
    {
      "cell_type": "markdown",
      "metadata": {
        "id": "view-in-github",
        "colab_type": "text"
      },
      "source": [
        "<a href=\"https://colab.research.google.com/github/wasimakis/Sample-Python/blob/master/Kattis_Skeleton/CS4150_Kattis_Skeleton.ipynb\" target=\"_parent\"><img src=\"https://colab.research.google.com/assets/colab-badge.svg\" alt=\"Open In Colab\"/></a>"
      ]
    },
    {
      "cell_type": "markdown",
      "metadata": {
        "id": "F1bZB0sjCsnk",
        "colab_type": "text"
      },
      "source": [
        "# CS 4150 Kattis Skeleton \n",
        "### Written by William Asimakis\n",
        "Run the bottom cell to open an access prompt to select multiple kattis input files present on your local device. For this specific Kattis test, you can input every single input file on this line"
      ]
    },
    {
      "cell_type": "code",
      "metadata": {
        "id": "rcXwtlMVDWRR",
        "colab_type": "code",
        "colab": {}
      },
      "source": [
        "from google.colab import files\n",
        "\n",
        "inFiles = files.upload()\n",
        "\n",
        "for fn in inFiles.keys():\n",
        "  print('User uploaded file \"{name}\" with length {length} bytes'.format(\n",
        "      name=fn, length=len(inFiles[fn])))"
      ],
      "execution_count": 0,
      "outputs": []
    },
    {
      "cell_type": "markdown",
      "metadata": {
        "id": "VbZCukbyELq0",
        "colab_type": "text"
      },
      "source": [
        "Next we will add the ability to "
      ]
    }
  ]
}